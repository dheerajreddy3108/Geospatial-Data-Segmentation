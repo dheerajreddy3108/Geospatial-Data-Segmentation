{
 "cells": [
  {
   "cell_type": "code",
   "execution_count": 1,
   "id": "c7fb49ca",
   "metadata": {},
   "outputs": [],
   "source": [
    "import tensorflow\n"
   ]
  },
  {
   "cell_type": "code",
   "execution_count": 3,
   "id": "9d5f0061",
   "metadata": {},
   "outputs": [],
   "source": [
    "import cv2\n",
    "import numpy as np\n",
    "import glob\n",
    "import os\n",
    "import matplotlib.pyplot as plt\n",
    "from osgeo import gdal"
   ]
  },
  {
   "cell_type": "code",
   "execution_count": 4,
   "id": "6d09592f",
   "metadata": {},
   "outputs": [],
   "source": [
    "from tensorflow.keras.layers import Input,Conv2D, MaxPooling2D, Conv2DTranspose, UpSampling2D,Dropout\n",
    "from tensorflow.keras.models import Model"
   ]
  },
  {
   "cell_type": "code",
   "execution_count": 5,
   "id": "872cab01",
   "metadata": {},
   "outputs": [],
   "source": [
    "def raster2rgb(img_data):\n",
    "\tbands_count = img_data.RasterCount\n",
    "\t\n",
    "\tr = img_data.GetRasterBand(4)\n",
    "\tg = img_data.GetRasterBand(3)\n",
    "\tb = img_data.GetRasterBand(2)\n",
    "\t\n",
    "\tr1 = r.ReadAsArray()\n",
    "\tg1 = g.ReadAsArray()\n",
    "\tb1 = b.ReadAsArray()\n",
    "\t\n",
    "\timg = np.dstack((r1,g1,b1))\n",
    "\t\n",
    "\tout = np.zeros_like(img).astype(np.float32)\n",
    "\tn = img.shape[2]\n",
    "\tfor i in range(n):\n",
    "\t\ta, b = 0, 1\n",
    "\t\tc = np.percentile(img[:,:,i],2)\n",
    "\t\td = np.percentile(img[:,:,i],98)\n",
    "\t\tt = a +(img[:,:,i]-c)*(b-a)/(d-c)\n",
    "\t\tt[t<a] = a\n",
    "\t\tt[t>b] = b\n",
    "\t\tout[:,:,i] = t\n",
    "\t\t\n",
    "\treturn out\n"
   ]
  },
  {
   "cell_type": "code",
   "execution_count": 6,
   "id": "a509c06b",
   "metadata": {},
   "outputs": [],
   "source": [
    "total_images_path = 'D:/vision_impulse/images/'\n",
    "total_images = []\n",
    "\n",
    "for file in glob.iglob(total_images_path+'**/*.tif',recursive = True):\n",
    "\timage = gdal.Open(file,gdal.GA_ReadOnly)\n",
    "\toutput_image = raster2rgb(image)\n",
    "\ttotal_images.append(output_image)"
   ]
  },
  {
   "cell_type": "code",
   "execution_count": 7,
   "id": "8e29e56f",
   "metadata": {},
   "outputs": [
    {
     "name": "stdout",
     "output_type": "stream",
     "text": [
      "5686\n"
     ]
    }
   ],
   "source": [
    "print(len(total_images))"
   ]
  },
  {
   "cell_type": "code",
   "execution_count": 9,
   "id": "28af6a6a",
   "metadata": {},
   "outputs": [],
   "source": [
    "\t\n",
    "X_train = []\n",
    "X_valid = []\n",
    "X_test = []\n",
    "\n",
    "for i in range(0,4506):\n",
    "\tX_train.append(total_images[i])\n",
    "\t\n",
    "for i in range(4506,4506+1100):\n",
    "\tX_valid.append(total_images[i])\n",
    "\t\n",
    "for i in range(4506+1100,len(total_images)):\n",
    "\tX_test.append(total_images[i])\n",
    "\t"
   ]
  },
  {
   "cell_type": "code",
   "execution_count": 10,
   "id": "102003f6",
   "metadata": {},
   "outputs": [],
   "source": [
    "\t\n",
    "X_train = np.asarray(X_train)\n",
    "X_valid = np.asarray(X_valid)\n",
    "X_test = np.asarray(X_test)\n"
   ]
  },
  {
   "cell_type": "code",
   "execution_count": 13,
   "id": "eb8532f9",
   "metadata": {},
   "outputs": [],
   "source": [
    "def raster2label(img_data):\n",
    "\tbands_count = img_data.RasterCount\n",
    "\tif bands_count ==1:\n",
    "\t\tgray = img_data.GetRasterBand(1)\n",
    "\t\n",
    "\t\tgray1 = gray.ReadAsArray()\n",
    "\t\n",
    "\t\tlabel = np.asarray(gray1)\n",
    "\t\t\n",
    "\treturn label\n",
    "label_data_path = 'D:/vision_impulse/labels/'\n",
    "total_labels = []\n",
    "\n",
    "for file in glob.iglob(label_data_path+'**/*.tif',recursive=True):\n",
    "\tlabel = gdal.Open(file, gdal.GA_ReadOnly)\n",
    "\toutput_label = raster2label(label)\n",
    "\ttotal_labels.append(output_label)\n"
   ]
  },
  {
   "cell_type": "code",
   "execution_count": 14,
   "id": "8f64d469",
   "metadata": {},
   "outputs": [],
   "source": [
    "y_train = []\n",
    "y_valid = []\n",
    "y_test = []\n",
    "\n",
    "for i in range(0,4506):\n",
    "\ty_train.append(total_labels[i])\n",
    "\n",
    "for i in range(4506,4506+1100):\n",
    "\ty_valid.append(total_labels[i])\n",
    "\n",
    "for i in range(4506+1100,len(total_labels)):\n",
    "\ty_test.append(total_labels[i])\n",
    "\n",
    "\n",
    "\n",
    "y_train = np.asarray(y_train)\n",
    "y_valid = np.asarray(y_valid)\n",
    "y_test = np.asarray(y_test)"
   ]
  },
  {
   "cell_type": "code",
   "execution_count": 15,
   "id": "e427ebb2",
   "metadata": {},
   "outputs": [],
   "source": [
    "from keras import backend as K\n",
    "coeff = 1e-10\n",
    "def IOU(y_true, y_pred):\n",
    "  intersect = K.sum(y_true*y_predd, axis = [0,-1,-2])\n",
    "  total = K.sum(y_true+y_pred, axis = [0,-1.-2])\n",
    "  uniom = total- intersect\n",
    "  iou = (intersect+coeff)/(union+coeff)\n",
    "\n",
    "  return K.mean(iou)\n"
   ]
  },
  {
   "cell_type": "code",
   "execution_count": 24,
   "id": "cd729bf9",
   "metadata": {},
   "outputs": [],
   "source": [
    "#learning rate changes\n",
    "\n",
    "lr = 1e-4\n",
    "def lr_rate_scheduler(epoch):\n",
    "  if 15<epoch<25:\n",
    "    lr = lr*0.1\n",
    "  elif 25<epoch<30:\n",
    "    lr = lr*0.01\n",
    "\n",
    "  return lr\n",
    "\n",
    "  "
   ]
  },
  {
   "cell_type": "code",
   "execution_count": 18,
   "id": "3986b437",
   "metadata": {},
   "outputs": [
    {
     "name": "stdout",
     "output_type": "stream",
     "text": [
      "(4506, 64, 64, 3)\n",
      "(80, 64, 64, 3)\n",
      "(1100, 64, 64, 3)\n",
      "(4506, 64, 64)\n",
      "(80, 64, 64)\n",
      "(1100, 64, 64)\n"
     ]
    }
   ],
   "source": [
    "print(X_train.shape)\n",
    "print(X_test.shape)\n",
    "print(X_valid.shape)\n",
    "print(y_train.shape)\n",
    "print(y_test.shape)\n",
    "print(y_valid.shape)"
   ]
  },
  {
   "cell_type": "code",
   "execution_count": 19,
   "id": "5fad9719",
   "metadata": {},
   "outputs": [
    {
     "ename": "AttributeError",
     "evalue": "module 'tensorflow.keras.callbacks' has no attribute 'ModelCkeckpoint'",
     "output_type": "error",
     "traceback": [
      "\u001b[1;31m---------------------------------------------------------------------------\u001b[0m",
      "\u001b[1;31mAttributeError\u001b[0m                            Traceback (most recent call last)",
      "\u001b[1;32m<ipython-input-19-9a340d37a442>\u001b[0m in \u001b[0;36m<module>\u001b[1;34m\u001b[0m\n\u001b[0;32m      1\u001b[0m \u001b[0mfilepath\u001b[0m \u001b[1;33m=\u001b[0m \u001b[1;34m'D:/vision_impulse/weights-{epoch:02d}-{val_IOU:4f}.hdf5'\u001b[0m\u001b[1;33m\u001b[0m\u001b[0m\n\u001b[0;32m      2\u001b[0m \u001b[1;33m\u001b[0m\u001b[0m\n\u001b[1;32m----> 3\u001b[1;33m \u001b[0mckpt\u001b[0m \u001b[1;33m=\u001b[0m \u001b[0mtensorflow\u001b[0m\u001b[1;33m.\u001b[0m\u001b[0mkeras\u001b[0m\u001b[1;33m.\u001b[0m\u001b[0mcallbacks\u001b[0m\u001b[1;33m.\u001b[0m\u001b[0mModelCkeckpoint\u001b[0m\u001b[1;33m(\u001b[0m\u001b[0mfilepath\u001b[0m \u001b[1;33m=\u001b[0m \u001b[0mfilepath\u001b[0m\u001b[1;33m,\u001b[0m \u001b[0mmonitor\u001b[0m \u001b[1;33m=\u001b[0m\u001b[1;34m'val_loss'\u001b[0m\u001b[1;33m,\u001b[0m\u001b[0mverbose\u001b[0m\u001b[1;33m=\u001b[0m\u001b[1;36m1\u001b[0m\u001b[1;33m,\u001b[0m\u001b[0msave_best_only\u001b[0m\u001b[1;33m=\u001b[0m \u001b[1;32mTrue\u001b[0m\u001b[1;33m,\u001b[0m \u001b[0mmode\u001b[0m\u001b[1;33m=\u001b[0m \u001b[1;34m'auto'\u001b[0m\u001b[1;33m)\u001b[0m\u001b[1;33m\u001b[0m\u001b[0m\n\u001b[0m\u001b[0;32m      4\u001b[0m \u001b[1;33m\u001b[0m\u001b[0m\n\u001b[0;32m      5\u001b[0m \u001b[0mrlrp\u001b[0m \u001b[1;33m=\u001b[0m \u001b[0mtensorflow\u001b[0m\u001b[1;33m.\u001b[0m\u001b[0mkeras\u001b[0m\u001b[1;33m.\u001b[0m\u001b[0mcallbacks\u001b[0m\u001b[1;33m.\u001b[0m\u001b[0mLearningRateScheduler\u001b[0m\u001b[1;33m(\u001b[0m\u001b[0mLr_rate_scheduler\u001b[0m\u001b[1;33m,\u001b[0m \u001b[0mverbose\u001b[0m\u001b[1;33m=\u001b[0m\u001b[1;36m1\u001b[0m\u001b[1;33m)\u001b[0m\u001b[1;33m\u001b[0m\u001b[0m\n",
      "\u001b[1;31mAttributeError\u001b[0m: module 'tensorflow.keras.callbacks' has no attribute 'ModelCkeckpoint'"
     ]
    }
   ],
   "source": [
    "filepath = 'D:/vision_impulse/weights-{epoch:02d}-{val_IOU:4f}.hdf5'\n",
    "\n",
    "ckpt = tensorflow.keras.callbacks.ModelCkeckpoint(filepath = filepath, monitor ='val_loss',verbose=1,save_best_only= True, mode= 'auto')\n",
    "\n",
    "rlrp = tensorflow.keras.callbacks.LearningRateScheduler(Lr_rate_scheduler, verbose=1)\n",
    "\n"
   ]
  },
  {
   "cell_type": "code",
   "execution_count": 21,
   "id": "6f174bfd",
   "metadata": {},
   "outputs": [],
   "source": [
    "from tensorflow.keras.callbacks import ModelCheckpoint, LearningRateScheduler\n"
   ]
  },
  {
   "cell_type": "code",
   "execution_count": 25,
   "id": "e36ab8bc",
   "metadata": {},
   "outputs": [],
   "source": [
    "filepath = 'D:/vision_impulse/weights-{epoch:02d}-{val_IOU:4f}.hdf5'\n",
    "\n",
    "ckpt = ModelCheckpoint(filepath = filepath, monitor ='val_loss',verbose=1,save_best_only= True, mode= 'auto')\n",
    "\n",
    "rlrp = LearningRateScheduler(lr_rate_scheduler, verbose=1)\n",
    "\n"
   ]
  },
  {
   "cell_type": "code",
   "execution_count": 28,
   "id": "a7b5840d",
   "metadata": {},
   "outputs": [],
   "source": [
    "from tensorflow.keras.layers import Input, Conv2D, Dropout, MaxPooling2D,Conv2DTranspose, concatenate,UpSampling2D\n",
    "input_lr = Input(shape = (64,64,3))\n",
    "\n",
    "c1 = Conv2D(64, (3, 3), activation='relu', kernel_initializer='he_normal', padding='same')(input_lr)\n",
    "c1 = Dropout(0.1)(c1)\n",
    "c1 = Conv2D(64, (3, 3), activation='relu', kernel_initializer='he_normal', padding='same')(c1)\n",
    "p1 = MaxPooling2D((2, 2))(c1)\n",
    "\n",
    "c2 = Conv2D(128, (3, 3), activation='relu', kernel_initializer='he_normal', padding='same')(p1)\n",
    "c2 = Dropout(0.1)(c2)\n",
    "c2 = Conv2D(128, (3, 3), activation='relu', kernel_initializer='he_normal', padding='same')(c2)\n",
    "p2 = MaxPooling2D((2, 2))(c2)\n",
    "\n",
    "c3 = Conv2D(256, (3, 3), activation='relu', kernel_initializer='he_normal', padding='same')(p2)\n",
    "c3 = Dropout(0.2) (c3)\n",
    "c3 = Conv2D(256, (3, 3), activation='relu', kernel_initializer='he_normal', padding='same')(c3)\n",
    "p3 = MaxPooling2D((2, 2)) (c3)\n",
    "\n",
    "c4 = Conv2D(512, (3, 3), activation='relu', kernel_initializer='he_normal', padding='same')(p3)\n",
    "c4 = Dropout(0.2) (c4)\n",
    "c4 = Conv2D(512, (3, 3), activation='relu', kernel_initializer='he_normal', padding='same')(c4)\n",
    "p4 = MaxPooling2D(pool_size=(2, 2)) (c4)\n",
    "\n",
    "c5 = Conv2D(1024, (3, 3), activation='relu', kernel_initializer='he_normal', padding='same')(p4)\n",
    "c5 = Dropout(0.3) (c5)\n",
    "c5 = Conv2D(1024, (3, 3), activation='relu', kernel_initializer='he_normal', padding='same')(c5)\n",
    "\n",
    "u6 = Conv2DTranspose(512,(2, 2), strides=(2, 2),padding='same')(c5)\n",
    "u6 = concatenate([u6, c4])\n",
    "c6 = Conv2D(512, (3, 3), activation='relu', kernel_initializer='he_normal', padding='same')(u6)\n",
    "c6 = Dropout(0.2)(c6)\n",
    "c6 = Conv2D(512, (3, 3), activation='relu', kernel_initializer='he_normal', padding='same')(c6)\n",
    "\n",
    "u7 = Conv2DTranspose(256,(2, 2), strides=(2, 2),padding='same')(c6)\n",
    "u7 = concatenate([u7, c3])\n",
    "c7 = Conv2D(256, (3, 3), activation='relu', kernel_initializer='he_normal', padding='same')(u7)\n",
    "c7 = Dropout(0.2)(c7)\n",
    "c7 = Conv2D(256, (3, 3), activation='relu', kernel_initializer='he_normal', padding='same')(c7)\n",
    "\n",
    "u8 = Conv2DTranspose(128,(2, 2), strides=(2, 2),padding='same')(c7)\n",
    "u8 = concatenate([u8, c2])\n",
    "c8 = Conv2D(128, (3, 3), activation='relu', kernel_initializer='he_normal', padding='same')(u8)\n",
    "c8 = Dropout(0.1)(c8)\n",
    "c8 = Conv2D(128, (3, 3), activation='relu', kernel_initializer='he_normal', padding='same')(c8)\n",
    "\n",
    "u9 = Conv2DTranspose(64,(2, 2), strides=(2, 2),padding='same')(c8)\n",
    "u9 = concatenate([u9, c1], axis=3)\n",
    "c9 = Conv2D(64, (3, 3), activation='relu', kernel_initializer='he_normal', padding='same')(u9)\n",
    "c9 = Dropout(0.1) (c9)\n",
    "c9 = Conv2D(64, (3, 3), activation='relu', kernel_initializer='he_normal', padding='same')(c9)\n",
    "\n",
    "outputs = Conv2D(1, (1, 1), activation='sigmoid')(c9)\n",
    "\n",
    "seg_model = Model(inputs=[input_lr],outputs = [outputs])"
   ]
  },
  {
   "cell_type": "code",
   "execution_count": 43,
   "id": "aac67589",
   "metadata": {},
   "outputs": [],
   "source": [
    "from tensorflow.keras.optimizers import Adam\n",
    "\n",
    "seg_model.compile(optimizer=Adam(1e-4),loss='binary_crossentropy',metrics=['accuracy'])"
   ]
  },
  {
   "cell_type": "code",
   "execution_count": 44,
   "id": "3fe30dcd",
   "metadata": {},
   "outputs": [],
   "source": [
    "batch_size = 32\n",
    "steps_per_epoch = int(len(X_train)//batch_size)\n",
    "epochs = 30"
   ]
  },
  {
   "cell_type": "code",
   "execution_count": 46,
   "id": "c5196399",
   "metadata": {},
   "outputs": [
    {
     "name": "stdout",
     "output_type": "stream",
     "text": [
      "Epoch 1/30\n",
      "140/140 [==============================] - 81s 580ms/step - loss: -0.0101 - accuracy: 0.6210 - val_loss: -0.1003 - val_accuracy: 0.6319\n",
      "Epoch 2/30\n",
      "140/140 [==============================] - 81s 580ms/step - loss: -0.3425 - accuracy: 0.6535 - val_loss: -0.1638 - val_accuracy: 0.6484\n",
      "Epoch 3/30\n",
      "140/140 [==============================] - 81s 580ms/step - loss: -0.4899 - accuracy: 0.6711 - val_loss: -0.2329 - val_accuracy: 0.6852\n",
      "Epoch 4/30\n",
      "140/140 [==============================] - 81s 581ms/step - loss: -0.5342 - accuracy: 0.6760 - val_loss: -0.5690 - val_accuracy: 0.6857\n",
      "Epoch 5/30\n",
      "140/140 [==============================] - 81s 582ms/step - loss: -0.6697 - accuracy: 0.6908 - val_loss: 0.3050 - val_accuracy: 0.6890\n",
      "Epoch 6/30\n",
      "140/140 [==============================] - 82s 583ms/step - loss: -0.7686 - accuracy: 0.6954 - val_loss: -0.0605 - val_accuracy: 0.6926\n",
      "Epoch 7/30\n",
      "140/140 [==============================] - 82s 583ms/step - loss: -0.7828 - accuracy: 0.7066 - val_loss: 0.1626 - val_accuracy: 0.6531\n",
      "Epoch 8/30\n",
      "140/140 [==============================] - 82s 586ms/step - loss: -0.8158 - accuracy: 0.7023 - val_loss: -0.7484 - val_accuracy: 0.6638\n",
      "Epoch 9/30\n",
      "140/140 [==============================] - 82s 588ms/step - loss: -0.8719 - accuracy: 0.7140 - val_loss: -0.4203 - val_accuracy: 0.6982\n",
      "Epoch 10/30\n",
      "140/140 [==============================] - 83s 590ms/step - loss: -0.9856 - accuracy: 0.7263 - val_loss: -0.5966 - val_accuracy: 0.6977\n",
      "Epoch 11/30\n",
      "140/140 [==============================] - 83s 591ms/step - loss: -1.0590 - accuracy: 0.7307 - val_loss: -0.5113 - val_accuracy: 0.7240\n",
      "Epoch 12/30\n",
      "140/140 [==============================] - 82s 588ms/step - loss: -0.9498 - accuracy: 0.7341 - val_loss: -0.3009 - val_accuracy: 0.6866\n",
      "Epoch 13/30\n",
      "140/140 [==============================] - 82s 587ms/step - loss: -1.0916 - accuracy: 0.7367 - val_loss: -0.4668 - val_accuracy: 0.7128\n",
      "Epoch 14/30\n",
      "140/140 [==============================] - 82s 586ms/step - loss: -1.0013 - accuracy: 0.7431 - val_loss: -0.5506 - val_accuracy: 0.7315\n",
      "Epoch 15/30\n",
      "140/140 [==============================] - 82s 585ms/step - loss: -1.1969 - accuracy: 0.7453 - val_loss: -0.2559 - val_accuracy: 0.7394\n",
      "Epoch 16/30\n",
      "140/140 [==============================] - 82s 585ms/step - loss: -1.0905 - accuracy: 0.7400 - val_loss: -0.0784 - val_accuracy: 0.7345\n",
      "Epoch 17/30\n",
      "140/140 [==============================] - 82s 585ms/step - loss: -1.1746 - accuracy: 0.7569 - val_loss: -0.2170 - val_accuracy: 0.7344\n",
      "Epoch 18/30\n",
      "140/140 [==============================] - 82s 584ms/step - loss: -1.1207 - accuracy: 0.7556 - val_loss: 0.0352 - val_accuracy: 0.7371\n",
      "Epoch 19/30\n",
      "140/140 [==============================] - 82s 584ms/step - loss: -1.2758 - accuracy: 0.7574 - val_loss: -0.4587 - val_accuracy: 0.7376\n",
      "Epoch 20/30\n",
      "140/140 [==============================] - 82s 583ms/step - loss: -1.1914 - accuracy: 0.7575 - val_loss: -0.8566 - val_accuracy: 0.7167\n",
      "Epoch 21/30\n",
      "140/140 [==============================] - 82s 583ms/step - loss: -1.2838 - accuracy: 0.7620 - val_loss: -0.7474 - val_accuracy: 0.7426\n",
      "Epoch 22/30\n",
      "140/140 [==============================] - 82s 584ms/step - loss: -1.1782 - accuracy: 0.7656 - val_loss: -0.6405 - val_accuracy: 0.7420\n",
      "Epoch 23/30\n",
      "140/140 [==============================] - 82s 584ms/step - loss: -1.2881 - accuracy: 0.7687 - val_loss: -0.3085 - val_accuracy: 0.7431\n",
      "Epoch 24/30\n",
      "140/140 [==============================] - 82s 583ms/step - loss: -1.3251 - accuracy: 0.7654 - val_loss: -0.3193 - val_accuracy: 0.7333\n",
      "Epoch 25/30\n",
      "140/140 [==============================] - 82s 584ms/step - loss: -1.2548 - accuracy: 0.7703 - val_loss: -0.6838 - val_accuracy: 0.7520\n",
      "Epoch 26/30\n",
      "140/140 [==============================] - 82s 583ms/step - loss: -1.2834 - accuracy: 0.7710 - val_loss: -0.4770 - val_accuracy: 0.7510\n",
      "Epoch 27/30\n",
      "140/140 [==============================] - 82s 583ms/step - loss: -1.3175 - accuracy: 0.7750 - val_loss: -0.3416 - val_accuracy: 0.7484\n",
      "Epoch 28/30\n",
      "140/140 [==============================] - 82s 583ms/step - loss: -1.3533 - accuracy: 0.7859 - val_loss: -0.1851 - val_accuracy: 0.7461\n",
      "Epoch 29/30\n",
      "140/140 [==============================] - 82s 582ms/step - loss: -1.3137 - accuracy: 0.7814 - val_loss: -0.4948 - val_accuracy: 0.7509\n",
      "Epoch 30/30\n",
      " 50/140 [=========>....................] - ETA: 48s - loss: -1.4543 - accuracy: 0.7785WARNING:tensorflow:Your input ran out of data; interrupting training. Make sure that your dataset or generator can generate at least `steps_per_epoch * epochs` batches (in this case, 4200 batches). You may need to use the repeat() function when building your dataset.\n",
      " 50/140 [=========>....................] - 32s 638ms/step - loss: -1.4543 - accuracy: 0.7785 - val_loss: -0.4539 - val_accuracy: 0.7515\n"
     ]
    }
   ],
   "source": [
    "history = seg_model.fit(X_train,y_train, epochs=epochs,steps_per_epoch= steps_per_epoch, validation_data =(X_valid, y_valid),callbacks = None )\n"
   ]
  },
  {
   "cell_type": "code",
   "execution_count": 48,
   "id": "27a91769",
   "metadata": {},
   "outputs": [],
   "source": [
    "y_pred =seg_model.predict(X_test)"
   ]
  },
  {
   "cell_type": "code",
   "execution_count": 50,
   "id": "65732e80",
   "metadata": {},
   "outputs": [
    {
     "data": {
      "text/plain": [
       "<matplotlib.image.AxesImage at 0x16d3790fc88>"
      ]
     },
     "execution_count": 50,
     "metadata": {},
     "output_type": "execute_result"
    },
    {
     "data": {
      "image/png": "[encoded data removed]",
      "text/plain": [
       "<Figure size 432x288 with 1 Axes>"
      ]
     },
     "metadata": {
      "needs_background": "light"
     },
     "output_type": "display_data"
    }
   ],
   "source": [
    "plt.imshow(y_pred[0])"
   ]
  },
  {
   "cell_type": "code",
   "execution_count": 51,
   "id": "5dc738dc",
   "metadata": {},
   "outputs": [
    {
     "data": {
      "text/plain": [
       "<matplotlib.image.AxesImage at 0x16d37e0e8d0>"
      ]
     },
     "execution_count": 51,
     "metadata": {},
     "output_type": "execute_result"
    },
    {
     "data": {
      "image/png": "[encoded data removed]",
      "text/plain": [
       "<Figure size 432x288 with 1 Axes>"
      ]
     },
     "metadata": {
      "needs_background": "light"
     },
     "output_type": "display_data"
    }
   ],
   "source": [
    "plt.imshow(y_test[0])"
   ]
  },
  {
   "cell_type": "code",
   "execution_count": null,
   "id": "7b30f5fb",
   "metadata": {},
   "outputs": [],
   "source": []
  }
 ],
 "metadata": {
  "kernelspec": {
   "display_name": "Python 3",
   "language": "python",
   "name": "python3"
  },
  "language_info": {
   "codemirror_mode": {
    "name": "ipython",
    "version": 3
   },
   "file_extension": ".py",
   "mimetype": "text/x-python",
   "name": "python",
   "nbconvert_exporter": "python",
   "pygments_lexer": "ipython3",
   "version": "3.6.3"
  }
 },
 "nbformat": 4,
 "nbformat_minor": 5
}
